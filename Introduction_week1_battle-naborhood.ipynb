{
    "cells": [
        {
            "cell_type": "markdown",
            "metadata": {
                "collapsed": true
            },
            "source": "# Capstone Project - The Battle of the Neighborhoods-Finding A Hot spot For Having Fun in Frankfurt am Main City \n#### Created By Setareh Behzadi Pishkenari\n### Applied Data Science Capstone by IBM/Coursera"
        },
        {
            "cell_type": "markdown",
            "metadata": {},
            "source": "## Introduction: Business Problem\n \nIn this project will try to give advise and discuss about hot spot for have fun in Frankfurt am Main. Specifically, this report will be targeted to travelers and families or any other people interested in having Fun in Frankfurt am Main city, Germany that they have no idea for a optimal place with any sufficient time, for examplefor a day trip or a short trip. I will use my data science powers to generate a most promissing neighborhood based on criteria. A spot will then be clearly expressed so that best possible final Place can be chosen by travelers and families or any other people."
        },
        {
            "cell_type": "code",
            "execution_count": null,
            "metadata": {},
            "outputs": [],
            "source": ""
        }
    ],
    "metadata": {
        "kernelspec": {
            "display_name": "Python 3.7",
            "language": "python",
            "name": "python3"
        },
        "language_info": {
            "codemirror_mode": {
                "name": "ipython",
                "version": 3
            },
            "file_extension": ".py",
            "mimetype": "text/x-python",
            "name": "python",
            "nbconvert_exporter": "python",
            "pygments_lexer": "ipython3",
            "version": "3.7.9"
        }
    },
    "nbformat": 4,
    "nbformat_minor": 1
}