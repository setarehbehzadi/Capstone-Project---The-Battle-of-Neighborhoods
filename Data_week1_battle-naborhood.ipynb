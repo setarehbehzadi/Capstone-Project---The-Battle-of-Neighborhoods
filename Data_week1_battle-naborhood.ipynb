{
    "cells": [
        {
            "cell_type": "markdown",
            "metadata": {
                "collapsed": true
            },
            "source": "# Capstone Project - The Battle of the Neighborhoods-Finding A Hot spot For Having Fun in Frankfurt am Main City \n#### Created By Setareh Behzadi Pishkenari\n### Applied Data Science Capstone by IBM/Coursera"
        },
        {
            "cell_type": "markdown",
            "metadata": {},
            "source": "## Data \n\n\nFirst of all I need to collect Data of all Funny Places in Frankfurt am Main including their name, id, location (address, latitude, longitude) then pick up the \"hot\" neighbor where locates most of the venue. Number of existing Funny places in the neighborhood (any type such as Restaurants, Hotels, Shops, Caffee, Fitness, Games,...) and their type and location in every neighborhood will be obtained using Foursquare API and applied folium for visualizing a particular neighbor.\n\n\n## Methodology\nIn this project I will direct my efforts on detecting a spot of Frankfurt am Main, Germany that have more Fun, particularly I will have not limit my analysis to access area around city.\nIn first step I have collected the required data: location and category of fun. I have also identified  data according to Foursquare categorization. Second step in my analysis will be calculation and exploration of Funny places across different areas of Frankfurt am Main. In third and final step I will focus on most promising spot by spotting the clusters of items we can see which neighborhood has density of Fun places, based on Foursqure Data.I will present map of all locations created by that using Heatmaps.\n\n##  Execution steps\n\nI import all the tools I need.\n"
        },
        {
            "cell_type": "code",
            "execution_count": 2,
            "metadata": {},
            "outputs": [
                {
                    "name": "stdout",
                    "output_type": "stream",
                    "text": "Requirement already satisfied: beautifulsoup4 in /opt/conda/envs/Python-3.7-main/lib/python3.7/site-packages (4.9.1)\nRequirement already satisfied: soupsieve>1.2 in /opt/conda/envs/Python-3.7-main/lib/python3.7/site-packages (from beautifulsoup4) (2.0.1)\nCollecting geocoder\n  Downloading geocoder-1.38.1-py2.py3-none-any.whl (98 kB)\n\u001b[K     |\u2588\u2588\u2588\u2588\u2588\u2588\u2588\u2588\u2588\u2588\u2588\u2588\u2588\u2588\u2588\u2588\u2588\u2588\u2588\u2588\u2588\u2588\u2588\u2588\u2588\u2588\u2588\u2588\u2588\u2588\u2588\u2588| 98 kB 6.8 MB/s  eta 0:00:01\n\u001b[?25hRequirement already satisfied: requests in /opt/conda/envs/Python-3.7-main/lib/python3.7/site-packages (from geocoder) (2.24.0)\nRequirement already satisfied: six in /opt/conda/envs/Python-3.7-main/lib/python3.7/site-packages (from geocoder) (1.15.0)\nRequirement already satisfied: click in /opt/conda/envs/Python-3.7-main/lib/python3.7/site-packages (from geocoder) (7.1.2)\nCollecting ratelim\n  Downloading ratelim-0.1.6-py2.py3-none-any.whl (4.0 kB)\nRequirement already satisfied: future in /opt/conda/envs/Python-3.7-main/lib/python3.7/site-packages (from geocoder) (0.18.2)\nRequirement already satisfied: certifi>=2017.4.17 in /opt/conda/envs/Python-3.7-main/lib/python3.7/site-packages (from requests->geocoder) (2020.11.8)\nRequirement already satisfied: urllib3!=1.25.0,!=1.25.1,<1.26,>=1.21.1 in /opt/conda/envs/Python-3.7-main/lib/python3.7/site-packages (from requests->geocoder) (1.25.9)\nRequirement already satisfied: idna<3,>=2.5 in /opt/conda/envs/Python-3.7-main/lib/python3.7/site-packages (from requests->geocoder) (2.9)\nRequirement already satisfied: chardet<4,>=3.0.2 in /opt/conda/envs/Python-3.7-main/lib/python3.7/site-packages (from requests->geocoder) (3.0.4)\nRequirement already satisfied: decorator in /opt/conda/envs/Python-3.7-main/lib/python3.7/site-packages (from ratelim->geocoder) (4.4.2)\nInstalling collected packages: ratelim, geocoder\nSuccessfully installed geocoder-1.38.1 ratelim-0.1.6\nCollecting folium\n  Downloading folium-0.11.0-py2.py3-none-any.whl (93 kB)\n\u001b[K     |\u2588\u2588\u2588\u2588\u2588\u2588\u2588\u2588\u2588\u2588\u2588\u2588\u2588\u2588\u2588\u2588\u2588\u2588\u2588\u2588\u2588\u2588\u2588\u2588\u2588\u2588\u2588\u2588\u2588\u2588\u2588\u2588| 93 kB 3.8 MB/s  eta 0:00:01\n\u001b[?25hRequirement already satisfied: requests in /opt/conda/envs/Python-3.7-main/lib/python3.7/site-packages (from folium) (2.24.0)\nRequirement already satisfied: jinja2>=2.9 in /opt/conda/envs/Python-3.7-main/lib/python3.7/site-packages (from folium) (2.11.2)\nCollecting branca>=0.3.0\n  Downloading branca-0.4.1-py3-none-any.whl (24 kB)\nRequirement already satisfied: numpy in /opt/conda/envs/Python-3.7-main/lib/python3.7/site-packages (from folium) (1.18.5)\nRequirement already satisfied: idna<3,>=2.5 in /opt/conda/envs/Python-3.7-main/lib/python3.7/site-packages (from requests->folium) (2.9)\nRequirement already satisfied: certifi>=2017.4.17 in /opt/conda/envs/Python-3.7-main/lib/python3.7/site-packages (from requests->folium) (2020.11.8)\nRequirement already satisfied: chardet<4,>=3.0.2 in /opt/conda/envs/Python-3.7-main/lib/python3.7/site-packages (from requests->folium) (3.0.4)\nRequirement already satisfied: urllib3!=1.25.0,!=1.25.1,<1.26,>=1.21.1 in /opt/conda/envs/Python-3.7-main/lib/python3.7/site-packages (from requests->folium) (1.25.9)\nRequirement already satisfied: MarkupSafe>=0.23 in /opt/conda/envs/Python-3.7-main/lib/python3.7/site-packages (from jinja2>=2.9->folium) (1.1.1)\nInstalling collected packages: branca, folium\nSuccessfully installed branca-0.4.1 folium-0.11.0\nRequirement already satisfied: geopy in /opt/conda/envs/Python-3.7-main/lib/python3.7/site-packages (2.0.0)\nRequirement already satisfied: geographiclib<2,>=1.49 in /opt/conda/envs/Python-3.7-main/lib/python3.7/site-packages (from geopy) (1.50)\nLibraries imported.\n"
                }
            ],
            "source": "import pandas as pd\nimport numpy as np\npd.set_option('display.max_columns', None)\npd.set_option('display.max_rows', None)\nimport requests\nimport sys\n!pip install beautifulsoup4\nfrom bs4 import BeautifulSoup\n!pip install geocoder\nimport geocoder\nimport os\n!pip install folium\nimport folium # map rendering library\n!pip install geopy\nfrom geopy.geocoders import Nominatim \nimport matplotlib.pyplot as plt\nimport matplotlib.cm as cm\nimport matplotlib.colors as colors\n%matplotlib inline\n\n\nprint('Libraries imported.')"
        },
        {
            "cell_type": "markdown",
            "metadata": {},
            "source": "### Foursquare\n\nNow let's Apply my credential ID on Foursquare. I will use Foursquare API to get info on Fun places in neighborhoods. We're interested in venues in 'Fun' category. "
        },
        {
            "cell_type": "code",
            "execution_count": 3,
            "metadata": {},
            "outputs": [
                {
                    "name": "stdout",
                    "output_type": "stream",
                    "text": "Your credentails:\nCLIENT_ID: WASXSEP5X50WDZCDXA2LTZZKMU1ZOSHTX52MEKY030OZPD0Y\nCLIENT_SECRET:XP0GIGTRP0I0IVZOTFCMWGPBIYZ5M1KCF5J1SHKM0ZG1YZIZ\n"
                }
            ],
            "source": "CLIENT_ID = 'WASXSEP5X50WDZCDXA2LTZZKMU1ZOSHTX52MEKY030OZPD0Y' # your Foursquare ID\nCLIENT_SECRET = 'XP0GIGTRP0I0IVZOTFCMWGPBIYZ5M1KCF5J1SHKM0ZG1YZIZ' # your Foursquare Secret\nVERSION = '20180604'\nLIMIT = 40\nprint('Your credentails:')\nprint('CLIENT_ID: ' + CLIENT_ID)\nprint('CLIENT_SECRET:' + CLIENT_SECRET)"
        },
        {
            "cell_type": "code",
            "execution_count": 4,
            "metadata": {},
            "outputs": [],
            "source": "import requests\n\nrequest_parameters = {\n    \"client_id\": CLIENT_ID,\n    \"client_secret\": CLIENT_SECRET,\n    \"v\": '20180605',\n    \"section\": \"Fun\",\n    \"near\": \"Frankfurt am Main\",\n    \"radius\": 1000,\n    \"limit\": 50}\n\ndata = requests.get(\"https://api.foursquare.com/v2/venues/explore\", params=request_parameters)"
        },
        {
            "cell_type": "code",
            "execution_count": 5,
            "metadata": {},
            "outputs": [
                {
                    "name": "stdout",
                    "output_type": "stream",
                    "text": "<Response [200]>\n"
                }
            ],
            "source": "print(data)"
        },
        {
            "cell_type": "markdown",
            "metadata": {},
            "source": "Now I will Transform data into json then request geocode.\n"
        },
        {
            "cell_type": "code",
            "execution_count": 6,
            "metadata": {},
            "outputs": [
                {
                    "data": {
                        "text/plain": "dict_keys(['suggestedFilters', 'geocode', 'headerLocation', 'headerFullLocation', 'headerLocationGranularity', 'totalResults', 'suggestedBounds', 'groups'])"
                    },
                    "execution_count": 6,
                    "metadata": {},
                    "output_type": "execute_result"
                }
            ],
            "source": "d = data.json()[\"response\"]\nd.keys()"
        },
        {
            "cell_type": "code",
            "execution_count": 7,
            "metadata": {},
            "outputs": [
                {
                    "data": {
                        "text/plain": "('city', 'Frankfurt am Main', 'Frankfurt am Main')"
                    },
                    "execution_count": 7,
                    "metadata": {},
                    "output_type": "execute_result"
                }
            ],
            "source": "d[\"headerLocationGranularity\"], d[\"headerLocation\"], d[\"headerFullLocation\"]"
        },
        {
            "cell_type": "code",
            "execution_count": 8,
            "metadata": {},
            "outputs": [
                {
                    "data": {
                        "text/plain": "({'ne': {'lat': 50.12012425, 'lng': 8.692766964990234},\n  'sw': {'lat': 50.10969075, 'lng': 8.673517735205078}},\n 125)"
                    },
                    "execution_count": 8,
                    "metadata": {},
                    "output_type": "execute_result"
                }
            ],
            "source": "d[\"suggestedBounds\"], d[\"totalResults\"]"
        },
        {
            "cell_type": "code",
            "execution_count": 9,
            "metadata": {},
            "outputs": [
                {
                    "data": {
                        "text/plain": "{'what': '',\n 'where': 'frankfurt am main',\n 'center': {'lat': 50.11552, 'lng': 8.68417},\n 'displayString': 'Frankfurt am Main, Germany',\n 'cc': 'DE',\n 'geometry': {'bounds': {'ne': {'lat': 50.22525399547315,\n    'lng': 8.800204924159232},\n   'sw': {'lat': 50.01235400018925, 'lng': 8.471343003421413}}},\n 'slug': 'frankfurt-am-main-germany',\n 'longId': '72057594040853469'}"
                    },
                    "execution_count": 9,
                    "metadata": {},
                    "output_type": "execute_result"
                }
            ],
            "source": "d[\"geocode\"]"
        },
        {
            "cell_type": "markdown",
            "metadata": {},
            "source": "I start creating group including information which is recommended."
        },
        {
            "cell_type": "code",
            "execution_count": 10,
            "metadata": {},
            "outputs": [
                {
                    "data": {
                        "text/plain": "dict_keys(['type', 'name', 'items'])"
                    },
                    "execution_count": 10,
                    "metadata": {},
                    "output_type": "execute_result"
                }
            ],
            "source": "d[\"groups\"][0].keys()"
        },
        {
            "cell_type": "code",
            "execution_count": 11,
            "metadata": {},
            "outputs": [
                {
                    "data": {
                        "text/plain": "('Recommended Places', 'recommended')"
                    },
                    "execution_count": 11,
                    "metadata": {},
                    "output_type": "execute_result"
                }
            ],
            "source": "d[\"groups\"][0][\"type\"], d[\"groups\"][0][\"name\"]"
        },
        {
            "cell_type": "code",
            "execution_count": null,
            "metadata": {},
            "outputs": [],
            "source": ""
        }
    ],
    "metadata": {
        "kernelspec": {
            "display_name": "Python 3.7",
            "language": "python",
            "name": "python3"
        },
        "language_info": {
            "codemirror_mode": {
                "name": "ipython",
                "version": 3
            },
            "file_extension": ".py",
            "mimetype": "text/x-python",
            "name": "python",
            "nbconvert_exporter": "python",
            "pygments_lexer": "ipython3",
            "version": "3.7.9"
        }
    },
    "nbformat": 4,
    "nbformat_minor": 1
}